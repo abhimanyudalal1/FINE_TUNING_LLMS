{
 "cells": [
  {
   "cell_type": "markdown",
   "id": "ac013a59",
   "metadata": {},
   "source": [
    "# embedding-models\n",
    "\n",
    "embedding models embed the text into numeric representations of many dimensions and can be trained to serve a lot of purposes like sentiment classification, semantic understanding"
   ]
  },
  {
   "cell_type": "markdown",
   "id": "c66b8172",
   "metadata": {},
   "source": [
    "[Alt text](contrastive_learning.png)"
   ]
  },
  {
   "cell_type": "code",
   "execution_count": 1,
   "id": "62424a29",
   "metadata": {},
   "outputs": [],
   "source": [
    "#function to generate images with path specification required\n",
    "import matplotlib.pyplot as plt\n",
    "import matplotlib.image as mpimg\n",
    "\n",
    "def imggen(im_path):\n",
    "    img=mpimg.imread(im_path)\n",
    "    plt.axis(\"off\")\n",
    "    return plt.imshow(img)"
   ]
  },
  {
   "cell_type": "code",
   "execution_count": null,
   "id": "183d382b",
   "metadata": {},
   "outputs": [],
   "source": [
    "imggen('contrastive_learning.png')"
   ]
  },
  {
   "cell_type": "markdown",
   "id": "3af0dd65",
   "metadata": {},
   "source": [
    "## contrastive learning\n",
    "In order to accurately capture the semantic nature of a document, it often needs to be contrasted with another\n",
    "document for a model to learn what makes it different or similar. \n",
    "\n",
    "\n",
    "so basically feeding the model with similar and dissimilar pairs..\n",
    "\n",
    "like instead of a question why P? we model it with contrast as why P and not Q? this makes it learn more info about the subject and \n",
    "ability to learn different features that make the subject unique."
   ]
  },
  {
   "cell_type": "markdown",
   "id": "2d27799e",
   "metadata": {},
   "source": [
    "### the best way to apply contrastive learning is through sentence- transformers\n",
    "\n",
    "\n",
    "\n",
    "# SBERT\n",
    "### (or sentence-BERT)\n",
    "1 LIMITATION OF BERT WAS the computational overhead because it uses a cross encoder and outputs 512*768 vector for a single sentence before similarity, either we use the [CLS] token that has a summary of the entire token embeddings but we still run a lot of compute in making those embeddings.\n",
    "\n",
    "We can also use Glove= global vectors for word representation; It’s not a neural network like BERT. It’s a matrix factorization method trained on global word co-occurrence statistics from a giant corpus."
   ]
  },
  {
   "cell_type": "markdown",
   "id": "6f1a1a1d",
   "metadata": {},
   "source": [
    "### sentence transformers:\n",
    "\n",
    "uses 2 bert models parallely with tied weights, removes the classification head and brings in mean pooling over the token embeddings, to generate a final fixed size vector embedding which can later be used for similarity searches, compute is saved as we dont need to calculate with each sentence but only the ones in our query\n",
    "\n",
    "also, we concat the sentences embedded along with the difference in the embeddings"
   ]
  },
  {
   "cell_type": "code",
   "execution_count": null,
   "id": "984eb3a2",
   "metadata": {},
   "outputs": [],
   "source": [
    "imggen(\"sentra.png\")"
   ]
  },
  {
   "cell_type": "markdown",
   "id": "d1a49bd4",
   "metadata": {},
   "source": [
    "### creating an embedding model \n",
    "\n",
    "to create an embedding model we first need some contrastual data for training\n",
    "\n",
    "NLI natural language for inference provides various types of data for evaluation, one of them being mnli, that has premise and hypothesis pairs along with labels for contradiction, entailment or neutral relations"
   ]
  },
  {
   "cell_type": "code",
   "execution_count": null,
   "id": "56f1568a",
   "metadata": {},
   "outputs": [],
   "source": [
    "imggen(\"mnli.png\")"
   ]
  },
  {
   "cell_type": "code",
   "execution_count": null,
   "id": "11491b04",
   "metadata": {},
   "outputs": [],
   "source": [
    "#load dataset nli dataset\n",
    "from datasets import load_dataset\n",
    "\n",
    "train_dataset= load_dataset(\"glue\",\"mnli\", split='train').select(range(50_000))\n",
    "train_dataset= train_dataset.remove_columns(\"idx\")\n"
   ]
  },
  {
   "cell_type": "code",
   "execution_count": null,
   "id": "ceaaf903",
   "metadata": {},
   "outputs": [],
   "source": [
    "train_dataset = train_dataset.select_columns(['hypothesis', 'premise', 'label'])\n"
   ]
  },
  {
   "cell_type": "markdown",
   "id": "3348a3bf",
   "metadata": {},
   "source": [
    "### Fixing TensorFlow Registry Error\n",
    "\n",
    "If you encounter the error \"Name tf.RaggedTensorSpec has already been registered\", restart the kernel before running the model training cells. This error occurs due to TensorFlow being imported multiple times."
   ]
  },
  {
   "cell_type": "markdown",
   "id": "9417a748",
   "metadata": {},
   "source": []
  },
  {
   "cell_type": "code",
   "execution_count": null,
   "id": "fad8bfa2",
   "metadata": {},
   "outputs": [],
   "source": [
    "# Clear TensorFlow registry and restart imports\n",
    "import sys\n",
    "import importlib\n",
    "\n",
    "# Remove tensorflow modules if already imported\n",
    "modules_to_remove = [module for module in sys.modules.keys() if 'tensorflow' in module or 'keras' in module]\n",
    "for module in modules_to_remove:\n",
    "    del sys.modules[module]\n",
    "\n",
    "# Clear GPU memory if using GPU\n",
    "try:\n",
    "    import tensorflow as tf\n",
    "    tf.keras.backend.clear_session()\n",
    "    if tf.config.list_physical_devices('GPU'):\n",
    "        tf.config.experimental.reset_memory_growth(tf.config.list_physical_devices('GPU')[0])\n",
    "except:\n",
    "    pass\n",
    "\n",
    "print(\"TensorFlow modules cleared. Ready for clean import.\")"
   ]
  },
  {
   "cell_type": "code",
   "execution_count": null,
   "id": "a8eb9a58",
   "metadata": {},
   "outputs": [],
   "source": [
    "train_dataset[:1]"
   ]
  },
  {
   "cell_type": "code",
   "execution_count": null,
   "id": "2f03e896",
   "metadata": {},
   "outputs": [],
   "source": []
  },
  {
   "cell_type": "code",
   "execution_count": null,
   "id": "d86804e1",
   "metadata": {},
   "outputs": [],
   "source": [
    "# Model training with proper type handling\n",
    "import numpy as np\n",
    "import os\n",
    "\n",
    "# Set environment variables to avoid conflicts\n",
    "os.environ['TOKENIZERS_PARALLELISM'] = 'false'\n",
    "os.environ['TF_CPP_MIN_LOG_LEVEL'] = '2'\n",
    "\n",
    "# Fix numpy int64 compatibility issues\n",
    "def fix_numpy_types():\n",
    "    import numpy as np\n",
    "    # Ensure numpy uses standard Python int types where needed\n",
    "    np.int64 = int\n",
    "\n",
    "\n",
    "try:\n",
    "    fix_numpy_types()\n",
    "    from sentence_transformers import SentenceTransformer, losses\n",
    "    \n",
    "    # Initialize the embedding model with error handling\n",
    "    embedding_model = SentenceTransformer('bert-base-uncased')\n",
    "    print(\"Model loaded successfully!\")\n",
    "    \n",
    "except Exception as e:\n",
    "    print(f\"Error loading model: {e}\")\n",
    "    # Alternative approach if there are issues\n",
    "    try:\n",
    "        from transformers import AutoTokenizer, AutoModel\n",
    "        from sentence_transformers import SentenceTransformer\n",
    "        \n",
    "        # Try loading with explicit device mapping\n",
    "        embedding_model = SentenceTransformer('bert-base-uncased', device='cpu')\n",
    "        print(\"Model loaded on CPU successfully!\")\n",
    "        \n",
    "    except Exception as e2:\n",
    "        print(f\"Fallback loading also failed: {e2}\")\n",
    "        print(\"Please restart the kernel and try again.\")\n"
   ]
  },
  {
   "cell_type": "code",
   "execution_count": null,
   "id": "bfd9294a",
   "metadata": {},
   "outputs": [],
   "source": [
    "\n",
    "#softmax losses\n",
    "from sentence_transformers import losses\n",
    "loss=losses.SoftmaxLoss(\n",
    "    \n",
    "    model=embedding_model,\n",
    "    sentence_embedding_dimension=embedding_model.get_sentence_embedding_dimension(),\n",
    "    num_labels=3\n",
    "    )"
   ]
  },
  {
   "cell_type": "markdown",
   "id": "f4c0c707",
   "metadata": {},
   "source": [
    "# only the lower cell is meant to run if not training here"
   ]
  },
  {
   "cell_type": "code",
   "execution_count": null,
   "id": "d6d8e2c8",
   "metadata": {},
   "outputs": [],
   "source": [
    "# adding evaluation for the model, we use stsb or semantic textual similarity benchmark\n",
    "from sentence_transformers.evaluation import EmbeddingSimilarityEvaluator\n",
    "\n",
    "val_sts=load_dataset(\"glue\",\"stsb\",split='validation')\n",
    "eval= EmbeddingSimilarityEvaluator(\n",
    "    sentences1=val_sts[\"sentence1\"],\n",
    "    sentences2=val_sts['sentence2'],\n",
    "    scores=[score/5 for score in val_sts[\"label\"]],\n",
    "    main_similarity=\"cosine\"\n",
    "\n",
    ")"
   ]
  },
  {
   "cell_type": "code",
   "execution_count": null,
   "id": "d100f58e",
   "metadata": {},
   "outputs": [],
   "source": [
    "from sentence_transformers import SentenceTransformerTrainingArguments\n",
    "from torch import bfloat16\n",
    "args=SentenceTransformerTrainingArguments(\n",
    "    output_dir=\"base_embedding_model\",\n",
    "    num_train_epochs=1,\n",
    "    per_device_eval_batch_size=4,\n",
    "    per_gpu_train_batch_size=4,\n",
    "   # float32=True, not for macs :(\n",
    "    eval_steps=100,\n",
    "    logging_steps=100\n",
    ")\n"
   ]
  },
  {
   "cell_type": "code",
   "execution_count": null,
   "id": "51c74d1d",
   "metadata": {},
   "outputs": [],
   "source": [
    "# from sentence_transformers import SentenceTransformerTrainer\n",
    "\n",
    "# trainer=SentenceTransformerTrainer(\n",
    "#     args=args,\n",
    "#     model=embedding_model,\n",
    "#     evaluator=eval,\n",
    "#     loss=loss,\n",
    "#     train_dataset=train_dataset\n",
    "\n",
    "# )\n",
    "# trainer.train()"
   ]
  },
  {
   "cell_type": "code",
   "execution_count": null,
   "id": "6dc9c6e0",
   "metadata": {},
   "outputs": [],
   "source": [
    "#after training your model always remember to restart the notebook to make sure all vram is cleared up.\n",
    "#as the model is ded everytime we try to train it, we shift to colab notebook further training and use the trained model here"
   ]
  },
  {
   "cell_type": "code",
   "execution_count": null,
   "id": "2414cea9",
   "metadata": {},
   "outputs": [],
   "source": [
    "from sentence_transformers import SentenceTransformer\n",
    "trained_model=SentenceTransformer(\"/Users/abhimanyu/Downloads/bert_base_trained_glue2\")\n"
   ]
  },
  {
   "cell_type": "code",
   "execution_count": null,
   "id": "fcaa33a9",
   "metadata": {},
   "outputs": [],
   "source": [
    "sentences=[\"this is an example\",\"i am not the example\"]\n",
    "embeddings=trained_model.encode(sentences)\n",
    "print(embeddings)"
   ]
  },
  {
   "cell_type": "code",
   "execution_count": null,
   "id": "3d441079",
   "metadata": {},
   "outputs": [],
   "source": [
    "eval(trained_model)"
   ]
  },
  {
   "cell_type": "code",
   "execution_count": null,
   "id": "e0ec0201",
   "metadata": {},
   "outputs": [],
   "source": [
    "#mteb is the state of the art library for evaluation of the model\n",
    "from mteb import MTEB\n",
    "    \n",
    "\n",
    "# Choose evaluation task with error handling\n",
    "# evaluation = MTEB(tasks=[\"Banking77Classification\"])\n",
    "\n",
    "# Calculate results with proper type handling\n",
    "\n",
    "import mteb\n",
    "\n",
    "tasks = mteb.get_tasks(tasks=[\"Banking77Classification\"])\n",
    "evaluation = MTEB(tasks=tasks)\n",
    "\n",
    "resultt = evaluation.run(trained_model)\n",
    "resultt"
   ]
  },
  {
   "cell_type": "code",
   "execution_count": null,
   "id": "2ba3fa83",
   "metadata": {},
   "outputs": [],
   "source": [
    "import mteb\n",
    "from sentence_transformers import SentenceTransformer\n",
    "\n",
    "trained_model=SentenceTransformer(\"/Users/abhimanyu/Downloads/bert_base_trained_glue2\")\n",
    "\n",
    "\n",
    "tasks = mteb.get_tasks(tasks=[\"Banking77Classification\"])\n",
    "evaluation = MTEB(tasks=tasks)\n",
    "\n"
   ]
  },
  {
   "cell_type": "code",
   "execution_count": null,
   "id": "45a55b7f",
   "metadata": {},
   "outputs": [],
   "source": [
    "import mteb\n",
    "\n",
    "# Fetch the Banking77Classification task object\n",
    "task = mteb.get_task(\"Banking77Classification\")\n",
    "\n",
    "# Get the dataset from the task object (usually stored in task.dataset or similar)\n",
    "dataset = task.dataset\n"
   ]
  },
  {
   "cell_type": "code",
   "execution_count": null,
   "id": "cc9d6e6e",
   "metadata": {},
   "outputs": [],
   "source": [
    "# For example, inspect first few labels\n",
    "print(dataset['validation'][:5])  # or dataset['validation'][:5]\n",
    "\n",
    "# Or print types of labels (adjust key if needed)\n",
    "labels = dataset['train']['label']\n",
    "print([type(label) for label in labels[:10]])\n"
   ]
  },
  {
   "cell_type": "code",
   "execution_count": null,
   "id": "c2fdce54",
   "metadata": {},
   "outputs": [],
   "source": [
    "print(dir(tasks))\n"
   ]
  },
  {
   "cell_type": "code",
   "execution_count": null,
   "id": "1e5dba19",
   "metadata": {},
   "outputs": [],
   "source": [
    "print(task.dataset)  # May be None or a complex object\n",
    "from mteb import get_task\n",
    "\n",
    "task = get_task(\"Banking77Classification\")\n",
    "\n",
    "print(task.splits)  # List available splits\n",
    "print(task.get_dataset(split=\"train\"))  # Load train split properly\n"
   ]
  },
  {
   "cell_type": "code",
   "execution_count": null,
   "id": "7b653564",
   "metadata": {},
   "outputs": [],
   "source": [
    "import mteb\n",
    "from sentence_transformers import SentenceTransformer\n",
    "\n",
    "# Define the sentence-transformers model name\n",
    "model_name = (\"/Users/abhimanyu/Downloads/bert_base_trained_glue2\")\n",
    "\n",
    "model = mteb.get_model(model_name) # will default to SentenceTransformers(model_name) if not implemented in MTEB\n",
    "tasks = mteb.get_tasks(tasks=[\"STSBenchmark\"])\n",
    "evaluation = mteb.MTEB(tasks=tasks)\n",
    "results = evaluation.run(model,output_folder=\"results/STSBenchmark\")\n",
    "print(model)\n",
    "print(\"Tokenizer path:\", model.tokenizer.name_or_path)\n"
   ]
  },
  {
   "cell_type": "code",
   "execution_count": null,
   "id": "ef45fdf4",
   "metadata": {},
   "outputs": [],
   "source": [
    "# {\n",
    "#   \"dataset_revision\": \"b0fddb56ed78048fa8b90373c8a3cfc37b684831\",\n",
    "#   \"evaluation_time\": 5.260719060897827,\n",
    "#   \"kg_co2_emissions\": null,\n",
    "#   \"mteb_version\": \"1.12.39\",\n",
    "#   \"scores\": {\n",
    "#     \"test\": [\n",
    "#       {\n",
    "#         \"cosine_pearson\": 0.5660132977293474,\n",
    "#         \"cosine_spearman\": 0.6237134696545672,\n",
    "#         \"euclidean_pearson\": 0.6112715246993904,\n",
    "#         \"euclidean_spearman\": 0.6307245433589723,\n",
    "#         \"hf_subset\": \"default\",\n",
    "#         \"languages\": [\n",
    "#           \"eng-Latn\"\n",
    "#         ],\n",
    "#         \"main_score\": 0.6237134696545672,\n",
    "#         \"manhattan_pearson\": 0.6205697391835063,\n",
    "#         \"manhattan_spearman\": 0.6330864771670663,\n",
    "#         \"pearson\": [\n",
    "#           0.5660132935950654,\n",
    "#           1.2533873237354529e-117\n",
    "#         ],\n",
    "#         \"spearman\": [\n",
    "#           0.6237134696545672,\n",
    "#           1.6490706502858626e-149\n",
    "#         ]\n",
    "#       }\n",
    "#     ]\n",
    "#   },\n",
    "#   \"task_name\": \"STSBenchmark\"\n",
    "# }"
   ]
  },
  {
   "cell_type": "code",
   "execution_count": null,
   "id": "1ed401d4",
   "metadata": {},
   "outputs": [],
   "source": [
    "\n",
    "from datasets import Dataset, load_dataset\n",
    "\n",
    "# Load MNLI dataset from GLUE\n",
    "# 0 = entailment, 1 = neutral, 2 = contradiction\n",
    "train_dataset = load_dataset(\"glue\", \"mnli\", split=\"train\").select(range(50_000))\n",
    "train_dataset = train_dataset.remove_columns(\"idx\")\n",
    "\n",
    "# (neutral/contradiction)=0 and (entailment)=1\n",
    "mapping = {2: 0, 1: 0, 0:1}\n",
    "train_dataset = Dataset.from_dict({\n",
    "    \"sentence1\": train_dataset[\"premise\"],\n",
    "    \"sentence2\": train_dataset[\"hypothesis\"],\n",
    "    \"label\": [float(mapping[label]) for label in train_dataset[\"label\"]]\n",
    "})"
   ]
  },
  {
   "cell_type": "code",
   "execution_count": null,
   "id": "32491f6c",
   "metadata": {},
   "outputs": [],
   "source": [
    "train_dataset[:2]"
   ]
  },
  {
   "cell_type": "code",
   "execution_count": null,
   "id": "09fce8aa",
   "metadata": {},
   "outputs": [],
   "source": [
    "# #create an evaluater\n",
    "# from sentence_transformers.evaluation import EmbeddingSimilarityEvaluator\n",
    "# val_sts=load_dataset(\"glue\",\"stsb\",split=\"validation\")\n",
    "# val_evaluator= EmbeddingSimilarityEvaluator(\n",
    "#     sentences1=val_sts[\"sentence1\"],\n",
    "#     sentences2=val_sts[\"sentence2\"],\n",
    "#     scores=[score/5 for score in val_sts[\"label\"]],\n",
    "#     main_similarity=\"cosine\",\n",
    "# )\n",
    "from sentence_transformers.evaluation import EmbeddingSimilarityEvaluator\n",
    "\n",
    "# Create an embedding similarity evaluator for stsb\n",
    "val_sts = load_dataset('glue', 'stsb', split='validation')\n",
    "evaluator = EmbeddingSimilarityEvaluator(\n",
    "    sentences1=val_sts[\"sentence1\"],\n",
    "    sentences2=val_sts[\"sentence2\"],\n",
    "    scores=[score/5 for score in val_sts[\"label\"]],\n",
    "    main_similarity=\"cosine\"\n",
    ")"
   ]
  },
  {
   "cell_type": "code",
   "execution_count": null,
   "id": "ddcd6383",
   "metadata": {},
   "outputs": [],
   "source": [
    "val_sts[:3]"
   ]
  },
  {
   "cell_type": "code",
   "execution_count": null,
   "id": "32ca0056",
   "metadata": {},
   "outputs": [],
   "source": [
    "from sentence_transformers import SentenceTransformer, losses\n",
    "from sentence_transformers import SentenceTransformerTrainer\n",
    "from sentence_transformers import SentenceTransformerTrainingArguments\n",
    "\n",
    "embedding_model= SentenceTransformer('bert-base-uncased')\n",
    "train_loss= losses.CosineSimilarityLoss(model=embedding_model)\n",
    "\n",
    "args= SentenceTransformerTrainingArguments(\n",
    "    output_dir=\"cosineloss_embedding_model\",\n",
    "    num_train_epochs=1,\n",
    "    per_device_train_batch_size=32,\n",
    "    per_device_eval_batch_size=32,\n",
    "    warmup_steps=100,\n",
    "    eval_steps=100,\n",
    "    logging_steps=100,\n",
    ")"
   ]
  },
  {
   "cell_type": "markdown",
   "id": "ee4abbbb",
   "metadata": {},
   "source": []
  },
  {
   "cell_type": "code",
   "execution_count": null,
   "id": "4a081912",
   "metadata": {},
   "outputs": [],
   "source": [
    "trainer=SentenceTransformerTrainer(\n",
    "    args=args,\n",
    "    model= embedding_model,\n",
    "    evaluator=evaluator,\n",
    "    train_dataset=train_dataset,\n",
    "    loss=train_loss    \n",
    ")\n",
    "trainer.train()"
   ]
  },
  {
   "cell_type": "code",
   "execution_count": null,
   "id": "ccd17d8c",
   "metadata": {},
   "outputs": [],
   "source": [
    "#loading the cosineloss trained model\n",
    "cosine_model='Users'"
   ]
  },
  {
   "cell_type": "code",
   "execution_count": null,
   "id": "ecc7dc43",
   "metadata": {},
   "outputs": [],
   "source": [
    "#multiple negative ranking loss\n",
    "import tqdm as tqdm \n",
    "from datasets import load_dataset, Dataset\n",
    "import random\n",
    "#load the dataset, then we only keep the 0 labelwith the .filter attr, thus removing the negatives(contradiction, neutral)\n",
    "mnli=load_dataset(\"glue\",'mnli',split='train').select(range(50_000))\n",
    "mnli=mnli.remove_columns('idx')\n",
    "mnli= mnli.filter(lambda x:True if x['label']==0 else False )\n",
    "#define a new dictionary, append the prem. and hyp. and shuffle the positives to be used as negatives,\n",
    "train_dataset= {'anchor':[], 'positive':[],'negative':[]}\n",
    "soft_negatives=list(mnli['hypothesis'])\n",
    "random.shuffle(soft_negatives)\n",
    "for row, soft_negative in tqdm.tqdm(zip(mnli, soft_negatives)): #zip combines the rows of mnli with the soft_negatives in a tuple pair, basically pairing one sentence with every row of the mnli, mnli has positives and the anchor then we give the negatives with the zip function\n",
    "    train_dataset['anchor'].append(row['premise'])\n",
    "    train_dataset['positive'].append(row['hypothesis'])\n",
    "    train_dataset['negative'].append(soft_negative)\n",
    "#finally we convert the dict to a dataset\n",
    "train_dataset= Dataset.from_dict(train_dataset)"
   ]
  },
  {
   "cell_type": "code",
   "execution_count": null,
   "id": "c1809a50",
   "metadata": {},
   "outputs": [],
   "source": [
    "from sentence_transformers.evaluation import EmbeddingSimilarityEvaluator\n",
    "val_sts= load_dataset(\"glue\",\"stsb\", split='validation')\n",
    "\n",
    "evaluatorf=EmbeddingSimilarityEvaluator(\n",
    "    sentences1=val_sts['sentence1'],\n",
    "    sentences2=val_sts['sentence2'],\n",
    "\n",
    "    scores=  [score/5 for score in val_sts['label']]\n",
    "\n",
    ")\n"
   ]
  },
  {
   "cell_type": "code",
   "execution_count": null,
   "id": "bf6d8fde",
   "metadata": {},
   "outputs": [],
   "source": [
    "from sentence_transformers import losses, SentenceTransformer\n",
    "from sentence_transformers import SentenceTransformerTrainer\n",
    "from sentence_transformers.training_args import SentenceTransformerTrainingArguments\n",
    "\n",
    "embedding_model=SentenceTransformer('bert-base-uncased')\n",
    "loss= losses.MultipleNegativesRankingLoss(model=embedding_model)\n",
    "\n",
    "#training arguments\n",
    "args= SentenceTransformerTrainingArguments(\n",
    "    output_dir='MNRloss_model',\n",
    "    logging_steps=100,\n",
    "    per_device_eval_batch_size=8,\n",
    "    per_gpu_eval_batch_size=8,\n",
    "    num_train_epochs=2,\n",
    "    per_device_train_batch_size=8,\n",
    "    eval_steps=100,\n",
    "\n",
    ")"
   ]
  },
  {
   "cell_type": "code",
   "execution_count": null,
   "id": "b0c2e8f0",
   "metadata": {},
   "outputs": [],
   "source": [
    "#train the model\n",
    "trainer=SentenceTransformerTrainer(\n",
    "    args=args,\n",
    "    loss=loss,\n",
    "    model=embedding_model,\n",
    "    train_dataset=train_dataset,\n",
    "    evaluator=evaluatorf\n",
    ")\n",
    "trainer.train()"
   ]
  },
  {
   "cell_type": "code",
   "execution_count": null,
   "id": "46dc4b3d",
   "metadata": {},
   "outputs": [],
   "source": [
    "imggen('mnrloss.png')\n"
   ]
  },
  {
   "cell_type": "markdown",
   "id": "ebaa74db",
   "metadata": {},
   "source": [
    "supposedly larger batch sizes in mnr loss will render higher accuracy as then the problem is more difficult due to more pairs of sentences..\n",
    "also what we are giving right now are easy negatives, as the example is completely unrelated in most cases to the anchor's premise. A good hard negative would be very close to the actual answer and make the model learn more nuanced representations.."
   ]
  },
  {
   "cell_type": "code",
   "execution_count": null,
   "id": "1c63ed24",
   "metadata": {},
   "outputs": [],
   "source": [
    "imggen('hardnegative.png')"
   ]
  },
  {
   "cell_type": "markdown",
   "id": "f32461e8",
   "metadata": {},
   "source": [
    "# fine-tuning"
   ]
  },
  {
   "cell_type": "markdown",
   "id": "ea967662",
   "metadata": {},
   "source": [
    "1. Supervised- the pipeline is basically the same, we just load all-miniLM-v6-l2 instead of bert-base-uncased. \n",
    "\n",
    "one main issue with this is the need of a large amount of high quality data to train or fine tune, which is not easily available.\n",
    "\n",
    "2. Augmented- SBERT\n",
    "\n",
    "we augment the data to make the dataset big. done in 4 steps-\n",
    "train on gold dataset > create new sentence pairs > generate labels > train sbert on gold+silver "
   ]
  },
  {
   "cell_type": "code",
   "execution_count": 3,
   "id": "c138648e",
   "metadata": {},
   "outputs": [
    {
     "data": {
      "text/plain": [
       "<matplotlib.image.AxesImage at 0x10c4ccf50>"
      ]
     },
     "execution_count": 3,
     "metadata": {},
     "output_type": "execute_result"
    },
    {
     "data": {
      "image/png": "[encoded data removed]",
      "text/plain": [
       "<Figure size 640x480 with 1 Axes>"
      ]
     },
     "metadata": {},
     "output_type": "display_data"
    }
   ],
   "source": [
    "imggen('augsbert.png')"
   ]
  },
  {
   "cell_type": "code",
   "execution_count": 4,
   "id": "b6aacf31",
   "metadata": {},
   "outputs": [
    {
     "name": "stderr",
     "output_type": "stream",
     "text": [
      "/Users/abhimanyu/Desktop/geospacy/venv/lib/python3.11/site-packages/tqdm/auto.py:21: TqdmWarning: IProgress not found. Please update jupyter and ipywidgets. See https://ipywidgets.readthedocs.io/en/stable/user_install.html\n",
      "  from .autonotebook import tqdm as notebook_tqdm\n",
      "100%|██████████| 50000/50000 [00:00<00:00, 69787.29it/s]\n"
     ]
    }
   ],
   "source": [
    "from tqdm import tqdm\n",
    "import pandas as pd\n",
    "from sentence_transformers.datasets import NoDuplicatesDataLoader\n",
    "from datasets import load_dataset, Dataset\n",
    "from sentence_transformers import InputExample\n",
    "train_dataset=load_dataset('glue','mnli',split= 'train').select(range(50_000))\n",
    "train_dataset.remove_columns('idx')\n",
    "mapping={0:1,1:0,2:0}\n",
    "\n",
    "gold_examples=[\n",
    "    InputExample(texts=[row['premise'], row['hypothesis']],label=mapping[row[\"label\"]])\n",
    "    for row in tqdm(train_dataset)\n",
    "]\n",
    "gold_dataloader = NoDuplicatesDataLoader(gold_examples, batch_size=32)\n",
    "gold=pd.DataFrame(\n",
    "    {\n",
    "    \"sentence1\": train_dataset['premise'],\n",
    "    'sentence2': train_dataset['hypothesis'],\n",
    "    'label': [mapping[label] for label in train_dataset['label']]\n",
    "    }\n",
    ")\n"
   ]
  },
  {
   "cell_type": "code",
   "execution_count": null,
   "id": "2c924718",
   "metadata": {},
   "outputs": [],
   "source": [
    "from sentence_transformers.cross_encoder import CrossEncoder\n",
    "\n",
    "cross_encoder= CrossEncoder('bert-base-uncased',num_labels=2)\n",
    "cross_encoder.fit(\n",
    "    train_dataloader=gold_dataloader,\n",
    "    show_progress_bar=True,\n",
    "    epochs=1,\n",
    "    use_amp=False,\n",
    "    warmup_steps=100\n",
    ")"
   ]
  },
  {
   "cell_type": "code",
   "execution_count": 5,
   "id": "4c2767dd",
   "metadata": {},
   "outputs": [],
   "source": [
    "silver= load_dataset(\"glue\",\"mnli\",split=\"train\").select(range(10_000,50_000))\n",
    "pairs=list(zip(silver['premise'],silver['hypothesis']))"
   ]
  },
  {
   "cell_type": "code",
   "execution_count": 6,
   "id": "a88d4d22",
   "metadata": {},
   "outputs": [
    {
     "ename": "NameError",
     "evalue": "name 'cross_encoder' is not defined",
     "output_type": "error",
     "traceback": [
      "\u001b[0;31m---------------------------------------------------------------------------\u001b[0m",
      "\u001b[0;31mNameError\u001b[0m                                 Traceback (most recent call last)",
      "Cell \u001b[0;32mIn[6], line 2\u001b[0m\n\u001b[1;32m      1\u001b[0m \u001b[38;5;66;03m# now we predict from these silver dset sentence pairs\u001b[39;00m\n\u001b[0;32m----> 2\u001b[0m output\u001b[38;5;241m=\u001b[39m\u001b[43mcross_encoder\u001b[49m\u001b[38;5;241m.\u001b[39mpredict(\n\u001b[1;32m      3\u001b[0m     pairs, show_progress_bar\u001b[38;5;241m=\u001b[39m\u001b[38;5;28;01mTrue\u001b[39;00m,\n\u001b[1;32m      4\u001b[0m     apply_softmax\u001b[38;5;241m=\u001b[39m\u001b[38;5;28;01mTrue\u001b[39;00m\n\u001b[1;32m      5\u001b[0m )\n\u001b[1;32m      6\u001b[0m siler\u001b[38;5;241m=\u001b[39mpd\u001b[38;5;241m.\u001b[39mDataFrame(\n\u001b[1;32m      7\u001b[0m     {\n\u001b[1;32m      8\u001b[0m     \u001b[38;5;124m'\u001b[39m\u001b[38;5;124msentence1\u001b[39m\u001b[38;5;124m'\u001b[39m: silver[\u001b[38;5;124m'\u001b[39m\u001b[38;5;124mpremise\u001b[39m\u001b[38;5;124m'\u001b[39m],\n\u001b[0;32m   (...)\u001b[0m\n\u001b[1;32m     11\u001b[0m     }\n\u001b[1;32m     12\u001b[0m )\n",
      "\u001b[0;31mNameError\u001b[0m: name 'cross_encoder' is not defined"
     ]
    }
   ],
   "source": [
    "# now we predict from these silver dset sentence pairs\n",
    "output=cross_encoder.predict(\n",
    "    pairs, show_progress_bar=True,\n",
    "    apply_softmax=True\n",
    ")\n",
    "siler=pd.DataFrame(\n",
    "    {\n",
    "    'sentence1': silver['premise'],\n",
    "    'sentence2': silver['hypothesis'],\n",
    "    'label': np.argmax(output, axis=1)\n",
    "    }\n",
    ")"
   ]
  },
  {
   "cell_type": "code",
   "execution_count": 7,
   "id": "859179a3",
   "metadata": {},
   "outputs": [
    {
     "ename": "TypeError",
     "evalue": "cannot concatenate object of type '<class 'datasets.arrow_dataset.Dataset'>'; only Series and DataFrame objs are valid",
     "output_type": "error",
     "traceback": [
      "\u001b[0;31m---------------------------------------------------------------------------\u001b[0m",
      "\u001b[0;31mTypeError\u001b[0m                                 Traceback (most recent call last)",
      "Cell \u001b[0;32mIn[7], line 1\u001b[0m\n\u001b[0;32m----> 1\u001b[0m final_dset\u001b[38;5;241m=\u001b[39m \u001b[43mpd\u001b[49m\u001b[38;5;241;43m.\u001b[39;49m\u001b[43mconcat\u001b[49m\u001b[43m(\u001b[49m\u001b[43m[\u001b[49m\u001b[43mgold\u001b[49m\u001b[43m,\u001b[49m\u001b[43m \u001b[49m\u001b[43msilver\u001b[49m\u001b[43m]\u001b[49m\u001b[43m,\u001b[49m\u001b[43m \u001b[49m\u001b[43mignore_index\u001b[49m\u001b[38;5;241;43m=\u001b[39;49m\u001b[38;5;28;43;01mTrue\u001b[39;49;00m\u001b[43m,\u001b[49m\u001b[43m \u001b[49m\u001b[43maxis\u001b[49m\u001b[38;5;241;43m=\u001b[39;49m\u001b[38;5;241;43m1\u001b[39;49m\u001b[43m)\u001b[49m\n\u001b[1;32m      2\u001b[0m final_dset\u001b[38;5;241m=\u001b[39m final_dset\u001b[38;5;241m.\u001b[39mdrop_duplicates(subset\u001b[38;5;241m=\u001b[39m[\u001b[38;5;124m'\u001b[39m\u001b[38;5;124msentence1\u001b[39m\u001b[38;5;124m'\u001b[39m,\u001b[38;5;124m'\u001b[39m\u001b[38;5;124msentence2\u001b[39m\u001b[38;5;124m'\u001b[39m], keep\u001b[38;5;241m=\u001b[39m\u001b[38;5;124m'\u001b[39m\u001b[38;5;124mfirst\u001b[39m\u001b[38;5;124m'\u001b[39m)\n\u001b[1;32m      3\u001b[0m train_dataset\u001b[38;5;241m=\u001b[39m Dataset\u001b[38;5;241m.\u001b[39mfrom_pandas(final_dset, preserve_index\u001b[38;5;241m=\u001b[39m\u001b[38;5;28;01mFalse\u001b[39;00m)\n",
      "File \u001b[0;32m~/Desktop/geospacy/venv/lib/python3.11/site-packages/pandas/core/reshape/concat.py:382\u001b[0m, in \u001b[0;36mconcat\u001b[0;34m(objs, axis, join, ignore_index, keys, levels, names, verify_integrity, sort, copy)\u001b[0m\n\u001b[1;32m    379\u001b[0m \u001b[38;5;28;01melif\u001b[39;00m copy \u001b[38;5;129;01mand\u001b[39;00m using_copy_on_write():\n\u001b[1;32m    380\u001b[0m     copy \u001b[38;5;241m=\u001b[39m \u001b[38;5;28;01mFalse\u001b[39;00m\n\u001b[0;32m--> 382\u001b[0m op \u001b[38;5;241m=\u001b[39m \u001b[43m_Concatenator\u001b[49m\u001b[43m(\u001b[49m\n\u001b[1;32m    383\u001b[0m \u001b[43m    \u001b[49m\u001b[43mobjs\u001b[49m\u001b[43m,\u001b[49m\n\u001b[1;32m    384\u001b[0m \u001b[43m    \u001b[49m\u001b[43maxis\u001b[49m\u001b[38;5;241;43m=\u001b[39;49m\u001b[43maxis\u001b[49m\u001b[43m,\u001b[49m\n\u001b[1;32m    385\u001b[0m \u001b[43m    \u001b[49m\u001b[43mignore_index\u001b[49m\u001b[38;5;241;43m=\u001b[39;49m\u001b[43mignore_index\u001b[49m\u001b[43m,\u001b[49m\n\u001b[1;32m    386\u001b[0m \u001b[43m    \u001b[49m\u001b[43mjoin\u001b[49m\u001b[38;5;241;43m=\u001b[39;49m\u001b[43mjoin\u001b[49m\u001b[43m,\u001b[49m\n\u001b[1;32m    387\u001b[0m \u001b[43m    \u001b[49m\u001b[43mkeys\u001b[49m\u001b[38;5;241;43m=\u001b[39;49m\u001b[43mkeys\u001b[49m\u001b[43m,\u001b[49m\n\u001b[1;32m    388\u001b[0m \u001b[43m    \u001b[49m\u001b[43mlevels\u001b[49m\u001b[38;5;241;43m=\u001b[39;49m\u001b[43mlevels\u001b[49m\u001b[43m,\u001b[49m\n\u001b[1;32m    389\u001b[0m \u001b[43m    \u001b[49m\u001b[43mnames\u001b[49m\u001b[38;5;241;43m=\u001b[39;49m\u001b[43mnames\u001b[49m\u001b[43m,\u001b[49m\n\u001b[1;32m    390\u001b[0m \u001b[43m    \u001b[49m\u001b[43mverify_integrity\u001b[49m\u001b[38;5;241;43m=\u001b[39;49m\u001b[43mverify_integrity\u001b[49m\u001b[43m,\u001b[49m\n\u001b[1;32m    391\u001b[0m \u001b[43m    \u001b[49m\u001b[43mcopy\u001b[49m\u001b[38;5;241;43m=\u001b[39;49m\u001b[43mcopy\u001b[49m\u001b[43m,\u001b[49m\n\u001b[1;32m    392\u001b[0m \u001b[43m    \u001b[49m\u001b[43msort\u001b[49m\u001b[38;5;241;43m=\u001b[39;49m\u001b[43msort\u001b[49m\u001b[43m,\u001b[49m\n\u001b[1;32m    393\u001b[0m \u001b[43m\u001b[49m\u001b[43m)\u001b[49m\n\u001b[1;32m    395\u001b[0m \u001b[38;5;28;01mreturn\u001b[39;00m op\u001b[38;5;241m.\u001b[39mget_result()\n",
      "File \u001b[0;32m~/Desktop/geospacy/venv/lib/python3.11/site-packages/pandas/core/reshape/concat.py:448\u001b[0m, in \u001b[0;36m_Concatenator.__init__\u001b[0;34m(self, objs, axis, join, keys, levels, names, ignore_index, verify_integrity, copy, sort)\u001b[0m\n\u001b[1;32m    445\u001b[0m objs, keys \u001b[38;5;241m=\u001b[39m \u001b[38;5;28mself\u001b[39m\u001b[38;5;241m.\u001b[39m_clean_keys_and_objs(objs, keys)\n\u001b[1;32m    447\u001b[0m \u001b[38;5;66;03m# figure out what our result ndim is going to be\u001b[39;00m\n\u001b[0;32m--> 448\u001b[0m ndims \u001b[38;5;241m=\u001b[39m \u001b[38;5;28;43mself\u001b[39;49m\u001b[38;5;241;43m.\u001b[39;49m\u001b[43m_get_ndims\u001b[49m\u001b[43m(\u001b[49m\u001b[43mobjs\u001b[49m\u001b[43m)\u001b[49m\n\u001b[1;32m    449\u001b[0m sample, objs \u001b[38;5;241m=\u001b[39m \u001b[38;5;28mself\u001b[39m\u001b[38;5;241m.\u001b[39m_get_sample_object(objs, ndims, keys, names, levels)\n\u001b[1;32m    451\u001b[0m \u001b[38;5;66;03m# Standardize axis parameter to int\u001b[39;00m\n",
      "File \u001b[0;32m~/Desktop/geospacy/venv/lib/python3.11/site-packages/pandas/core/reshape/concat.py:489\u001b[0m, in \u001b[0;36m_Concatenator._get_ndims\u001b[0;34m(self, objs)\u001b[0m\n\u001b[1;32m    484\u001b[0m     \u001b[38;5;28;01mif\u001b[39;00m \u001b[38;5;129;01mnot\u001b[39;00m \u001b[38;5;28misinstance\u001b[39m(obj, (ABCSeries, ABCDataFrame)):\n\u001b[1;32m    485\u001b[0m         msg \u001b[38;5;241m=\u001b[39m (\n\u001b[1;32m    486\u001b[0m             \u001b[38;5;124mf\u001b[39m\u001b[38;5;124m\"\u001b[39m\u001b[38;5;124mcannot concatenate object of type \u001b[39m\u001b[38;5;124m'\u001b[39m\u001b[38;5;132;01m{\u001b[39;00m\u001b[38;5;28mtype\u001b[39m(obj)\u001b[38;5;132;01m}\u001b[39;00m\u001b[38;5;124m'\u001b[39m\u001b[38;5;124m; \u001b[39m\u001b[38;5;124m\"\u001b[39m\n\u001b[1;32m    487\u001b[0m             \u001b[38;5;124m\"\u001b[39m\u001b[38;5;124monly Series and DataFrame objs are valid\u001b[39m\u001b[38;5;124m\"\u001b[39m\n\u001b[1;32m    488\u001b[0m         )\n\u001b[0;32m--> 489\u001b[0m         \u001b[38;5;28;01mraise\u001b[39;00m \u001b[38;5;167;01mTypeError\u001b[39;00m(msg)\n\u001b[1;32m    491\u001b[0m     ndims\u001b[38;5;241m.\u001b[39madd(obj\u001b[38;5;241m.\u001b[39mndim)\n\u001b[1;32m    492\u001b[0m \u001b[38;5;28;01mreturn\u001b[39;00m ndims\n",
      "\u001b[0;31mTypeError\u001b[0m: cannot concatenate object of type '<class 'datasets.arrow_dataset.Dataset'>'; only Series and DataFrame objs are valid"
     ]
    }
   ],
   "source": [
    "final_dset= pd.concat([gold, silver], ignore_index=True, axis=1)\n",
    "final_dset= final_dset.drop_duplicates(subset=['sentence1','sentence2'], keep='first')\n",
    "train_dataset= Dataset.from_pandas(final_dset, preserve_index=False)"
   ]
  },
  {
   "cell_type": "code",
   "execution_count": 3,
   "id": "d1d035f7",
   "metadata": {},
   "outputs": [
    {
     "ename": "ValueError",
     "evalue": "Column 'labels' doesn't exist.",
     "output_type": "error",
     "traceback": [
      "\u001b[0;31m---------------------------------------------------------------------------\u001b[0m",
      "\u001b[0;31mValueError\u001b[0m                                Traceback (most recent call last)",
      "Cell \u001b[0;32mIn[3], line 7\u001b[0m\n\u001b[1;32m      2\u001b[0m \u001b[38;5;28;01mfrom\u001b[39;00m\u001b[38;5;250m \u001b[39m\u001b[38;5;21;01mdatasets\u001b[39;00m\u001b[38;5;250m \u001b[39m\u001b[38;5;28;01mimport\u001b[39;00m load_dataset\n\u001b[1;32m      3\u001b[0m val_sts\u001b[38;5;241m=\u001b[39m load_dataset(\u001b[38;5;124m'\u001b[39m\u001b[38;5;124mglue\u001b[39m\u001b[38;5;124m'\u001b[39m,\u001b[38;5;124m'\u001b[39m\u001b[38;5;124mstsb\u001b[39m\u001b[38;5;124m'\u001b[39m,split\u001b[38;5;241m=\u001b[39m\u001b[38;5;124m\"\u001b[39m\u001b[38;5;124mvalidation\u001b[39m\u001b[38;5;124m\"\u001b[39m)\n\u001b[1;32m      4\u001b[0m evaluator\u001b[38;5;241m=\u001b[39m EmbeddingSimilarityEvaluator(\n\u001b[1;32m      5\u001b[0m     sentences1\u001b[38;5;241m=\u001b[39m val_sts[\u001b[38;5;124m'\u001b[39m\u001b[38;5;124msentence1\u001b[39m\u001b[38;5;124m'\u001b[39m], \n\u001b[1;32m      6\u001b[0m     sentences2\u001b[38;5;241m=\u001b[39m val_sts[\u001b[38;5;124m'\u001b[39m\u001b[38;5;124msentence2\u001b[39m\u001b[38;5;124m'\u001b[39m],\n\u001b[0;32m----> 7\u001b[0m     scores\u001b[38;5;241m=\u001b[39m [score\u001b[38;5;241m/\u001b[39m\u001b[38;5;241m5\u001b[39m \u001b[38;5;28;01mfor\u001b[39;00m score \u001b[38;5;129;01min\u001b[39;00m \u001b[43mval_sts\u001b[49m\u001b[43m[\u001b[49m\u001b[38;5;124;43m'\u001b[39;49m\u001b[38;5;124;43mlabels\u001b[39;49m\u001b[38;5;124;43m'\u001b[39;49m\u001b[43m]\u001b[49m],\n\u001b[1;32m      8\u001b[0m     main_similarity\u001b[38;5;241m=\u001b[39m\u001b[38;5;124m'\u001b[39m\u001b[38;5;124mcosine\u001b[39m\u001b[38;5;124m'\u001b[39m\n\u001b[1;32m      9\u001b[0m )\n",
      "File \u001b[0;32m~/Desktop/geospacy/venv/lib/python3.11/site-packages/datasets/arrow_dataset.py:2858\u001b[0m, in \u001b[0;36mDataset.__getitem__\u001b[0;34m(self, key)\u001b[0m\n\u001b[1;32m   2856\u001b[0m \u001b[38;5;28;01mif\u001b[39;00m \u001b[38;5;28misinstance\u001b[39m(key, \u001b[38;5;28mstr\u001b[39m):\n\u001b[1;32m   2857\u001b[0m     \u001b[38;5;28;01mif\u001b[39;00m \u001b[38;5;28mself\u001b[39m\u001b[38;5;241m.\u001b[39m_format_type \u001b[38;5;129;01mis\u001b[39;00m \u001b[38;5;28;01mNone\u001b[39;00m \u001b[38;5;129;01mor\u001b[39;00m \u001b[38;5;28mself\u001b[39m\u001b[38;5;241m.\u001b[39m_format_type \u001b[38;5;129;01mnot\u001b[39;00m \u001b[38;5;129;01min\u001b[39;00m (\u001b[38;5;124m\"\u001b[39m\u001b[38;5;124marrow\u001b[39m\u001b[38;5;124m\"\u001b[39m, \u001b[38;5;124m\"\u001b[39m\u001b[38;5;124mpandas\u001b[39m\u001b[38;5;124m\"\u001b[39m, \u001b[38;5;124m\"\u001b[39m\u001b[38;5;124mpolars\u001b[39m\u001b[38;5;124m\"\u001b[39m):\n\u001b[0;32m-> 2858\u001b[0m         \u001b[38;5;28;01mreturn\u001b[39;00m \u001b[43mColumn\u001b[49m\u001b[43m(\u001b[49m\u001b[38;5;28;43mself\u001b[39;49m\u001b[43m,\u001b[49m\u001b[43m \u001b[49m\u001b[43mkey\u001b[49m\u001b[43m)\u001b[49m\n\u001b[1;32m   2859\u001b[0m \u001b[38;5;28;01mreturn\u001b[39;00m \u001b[38;5;28mself\u001b[39m\u001b[38;5;241m.\u001b[39m_getitem(key)\n",
      "File \u001b[0;32m~/Desktop/geospacy/venv/lib/python3.11/site-packages/datasets/arrow_dataset.py:656\u001b[0m, in \u001b[0;36mColumn.__init__\u001b[0;34m(self, source, column_name)\u001b[0m\n\u001b[1;32m    654\u001b[0m \u001b[38;5;28mself\u001b[39m\u001b[38;5;241m.\u001b[39mcolumn_name \u001b[38;5;241m=\u001b[39m column_name\n\u001b[1;32m    655\u001b[0m \u001b[38;5;28;01mif\u001b[39;00m \u001b[38;5;129;01mnot\u001b[39;00m \u001b[38;5;28misinstance\u001b[39m(source\u001b[38;5;241m.\u001b[39mfeatures, \u001b[38;5;28mdict\u001b[39m) \u001b[38;5;129;01mor\u001b[39;00m column_name \u001b[38;5;129;01mnot\u001b[39;00m \u001b[38;5;129;01min\u001b[39;00m source\u001b[38;5;241m.\u001b[39mfeatures:\n\u001b[0;32m--> 656\u001b[0m     \u001b[38;5;28;01mraise\u001b[39;00m \u001b[38;5;167;01mValueError\u001b[39;00m(\u001b[38;5;124mf\u001b[39m\u001b[38;5;124m\"\u001b[39m\u001b[38;5;124mColumn \u001b[39m\u001b[38;5;124m'\u001b[39m\u001b[38;5;132;01m{\u001b[39;00mcolumn_name\u001b[38;5;132;01m}\u001b[39;00m\u001b[38;5;124m'\u001b[39m\u001b[38;5;124m doesn\u001b[39m\u001b[38;5;124m'\u001b[39m\u001b[38;5;124mt exist.\u001b[39m\u001b[38;5;124m\"\u001b[39m)\n\u001b[1;32m    657\u001b[0m \u001b[38;5;28mself\u001b[39m\u001b[38;5;241m.\u001b[39mfeatures \u001b[38;5;241m=\u001b[39m source\u001b[38;5;241m.\u001b[39mfeatures[column_name]\n",
      "\u001b[0;31mValueError\u001b[0m: Column 'labels' doesn't exist."
     ]
    }
   ],
   "source": [
    "from sentence_transformers.evaluation import EmbeddingSimilarityEvaluator\n",
    "from datasets import load_dataset\n",
    "val_sts= load_dataset('glue','stsb',split=\"validation\")\n",
    "evaluator= EmbeddingSimilarityEvaluator(\n",
    "    sentences1= val_sts['sentence1'], \n",
    "    sentences2= val_sts['sentence2'],\n",
    "    scores= [score/5 for score in val_sts['labels']],\n",
    "    main_similarity='cosine'\n",
    ")"
   ]
  },
  {
   "cell_type": "code",
   "execution_count": null,
   "id": "553e5998",
   "metadata": {},
   "outputs": [],
   "source": [
    "from sentence_transformers import losses, SentenceTransformer\n",
    "import sentence_transformers\n",
    "from sentence_transformers.trainer import SentenceTransformerTrainer\n",
    "from sentence_transformers.training_args import SentenceTransformerTrainingArguments\n",
    "\n",
    "embedding_model=SentenceTransformer('bert-base-uncased')\n",
    "loss= losses.CosineSimilarityLoss(model=embedding_model)\n",
    "\n",
    "args = SentenceTransformerTrainingArguments(\n",
    "output_dir=\"augmented_embedding_model\",\n",
    "num_train_epochs=1,\n",
    "per_device_train_batch_size=32,\n",
    "per_device_eval_batch_size=32,\n",
    "warmup_steps=100,\n",
    "eval_steps=100,\n",
    "logging_steps=100,\n",
    ")\n",
    "\n",
    "# Train model\n",
    "trainer = SentenceTransformerTrainer(\n",
    "model=embedding_model,\n",
    "args=args,\n",
    "train_dataset=train_dataset,\n",
    "loss=train_loss,\n",
    "evaluator=evaluator\n",
    ")\n",
    "trainer.train()"
   ]
  }
 ],
 "metadata": {
  "kernelspec": {
   "display_name": "venv",
   "language": "python",
   "name": "python3"
  },
  "language_info": {
   "codemirror_mode": {
    "name": "ipython",
    "version": 3
   },
   "file_extension": ".py",
   "mimetype": "text/x-python",
   "name": "python",
   "nbconvert_exporter": "python",
   "pygments_lexer": "ipython3",
   "version": "3.11.13"
  }
 },
 "nbformat": 4,
 "nbformat_minor": 5
}
